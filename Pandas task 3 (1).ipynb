{
 "cells": [
  {
   "cell_type": "markdown",
   "id": "e4c4bfc5",
   "metadata": {},
   "source": [
    "## Data Manipulation"
   ]
  },
  {
   "cell_type": "markdown",
   "id": "97338771",
   "metadata": {},
   "source": [
    "### 1. Find all Statistic Measures"
   ]
  },
  {
   "cell_type": "code",
   "execution_count": 154,
   "id": "8e030592",
   "metadata": {},
   "outputs": [],
   "source": [
    "import pandas as pd\n",
    "import numpy as np"
   ]
  },
  {
   "cell_type": "code",
   "execution_count": 153,
   "id": "da34d4d2",
   "metadata": {},
   "outputs": [],
   "source": [
    "df = pd.read_csv(r\"C:\\Users\\subha\\Downloads\\studens_data.csv\")"
   ]
  },
  {
   "cell_type": "code",
   "execution_count": 155,
   "id": "2c867526",
   "metadata": {},
   "outputs": [
    {
     "data": {
      "text/html": [
       "<div>\n",
       "<style scoped>\n",
       "    .dataframe tbody tr th:only-of-type {\n",
       "        vertical-align: middle;\n",
       "    }\n",
       "\n",
       "    .dataframe tbody tr th {\n",
       "        vertical-align: top;\n",
       "    }\n",
       "\n",
       "    .dataframe thead th {\n",
       "        text-align: right;\n",
       "    }\n",
       "</style>\n",
       "<table border=\"1\" class=\"dataframe\">\n",
       "  <thead>\n",
       "    <tr style=\"text-align: right;\">\n",
       "      <th></th>\n",
       "      <th>ID</th>\n",
       "      <th>class</th>\n",
       "      <th>gender</th>\n",
       "      <th>GPA</th>\n",
       "      <th>Algebra</th>\n",
       "      <th>Calculus1</th>\n",
       "      <th>Calculus2</th>\n",
       "      <th>Statistics</th>\n",
       "      <th>Probability</th>\n",
       "      <th>Measure</th>\n",
       "      <th>Functional_analysis</th>\n",
       "    </tr>\n",
       "  </thead>\n",
       "  <tbody>\n",
       "    <tr>\n",
       "      <th>0</th>\n",
       "      <td>1141</td>\n",
       "      <td>A</td>\n",
       "      <td>male</td>\n",
       "      <td>73.47</td>\n",
       "      <td>64</td>\n",
       "      <td>81</td>\n",
       "      <td>87</td>\n",
       "      <td>60</td>\n",
       "      <td>74</td>\n",
       "      <td>71</td>\n",
       "      <td>60</td>\n",
       "    </tr>\n",
       "    <tr>\n",
       "      <th>1</th>\n",
       "      <td>1142</td>\n",
       "      <td>A</td>\n",
       "      <td>female</td>\n",
       "      <td>71.22</td>\n",
       "      <td>57</td>\n",
       "      <td>50</td>\n",
       "      <td>51</td>\n",
       "      <td>51</td>\n",
       "      <td>55</td>\n",
       "      <td>62</td>\n",
       "      <td>61</td>\n",
       "    </tr>\n",
       "    <tr>\n",
       "      <th>2</th>\n",
       "      <td>1143</td>\n",
       "      <td>A</td>\n",
       "      <td>female</td>\n",
       "      <td>74.56</td>\n",
       "      <td>47</td>\n",
       "      <td>48</td>\n",
       "      <td>71</td>\n",
       "      <td>60</td>\n",
       "      <td>61</td>\n",
       "      <td>68</td>\n",
       "      <td>64</td>\n",
       "    </tr>\n",
       "    <tr>\n",
       "      <th>3</th>\n",
       "      <td>1144</td>\n",
       "      <td>A</td>\n",
       "      <td>female</td>\n",
       "      <td>72.89</td>\n",
       "      <td>46</td>\n",
       "      <td>72</td>\n",
       "      <td>38</td>\n",
       "      <td>60</td>\n",
       "      <td>29</td>\n",
       "      <td>54</td>\n",
       "      <td>51</td>\n",
       "    </tr>\n",
       "    <tr>\n",
       "      <th>4</th>\n",
       "      <td>1145</td>\n",
       "      <td>A</td>\n",
       "      <td>female</td>\n",
       "      <td>70.11</td>\n",
       "      <td>49</td>\n",
       "      <td>45</td>\n",
       "      <td>63</td>\n",
       "      <td>60</td>\n",
       "      <td>66</td>\n",
       "      <td>66</td>\n",
       "      <td>61</td>\n",
       "    </tr>\n",
       "    <tr>\n",
       "      <th>...</th>\n",
       "      <td>...</td>\n",
       "      <td>...</td>\n",
       "      <td>...</td>\n",
       "      <td>...</td>\n",
       "      <td>...</td>\n",
       "      <td>...</td>\n",
       "      <td>...</td>\n",
       "      <td>...</td>\n",
       "      <td>...</td>\n",
       "      <td>...</td>\n",
       "      <td>...</td>\n",
       "    </tr>\n",
       "    <tr>\n",
       "      <th>100</th>\n",
       "      <td>1241</td>\n",
       "      <td>A</td>\n",
       "      <td>female</td>\n",
       "      <td>88.34</td>\n",
       "      <td>87</td>\n",
       "      <td>83</td>\n",
       "      <td>92</td>\n",
       "      <td>98</td>\n",
       "      <td>93</td>\n",
       "      <td>86</td>\n",
       "      <td>90</td>\n",
       "    </tr>\n",
       "    <tr>\n",
       "      <th>101</th>\n",
       "      <td>1242</td>\n",
       "      <td>B</td>\n",
       "      <td>male</td>\n",
       "      <td>89.84</td>\n",
       "      <td>98</td>\n",
       "      <td>77</td>\n",
       "      <td>95</td>\n",
       "      <td>98</td>\n",
       "      <td>96</td>\n",
       "      <td>88</td>\n",
       "      <td>100</td>\n",
       "    </tr>\n",
       "    <tr>\n",
       "      <th>102</th>\n",
       "      <td>1243</td>\n",
       "      <td>B</td>\n",
       "      <td>male</td>\n",
       "      <td>88.82</td>\n",
       "      <td>83</td>\n",
       "      <td>80</td>\n",
       "      <td>91</td>\n",
       "      <td>98</td>\n",
       "      <td>93</td>\n",
       "      <td>95</td>\n",
       "      <td>71</td>\n",
       "    </tr>\n",
       "    <tr>\n",
       "      <th>103</th>\n",
       "      <td>1244</td>\n",
       "      <td>A</td>\n",
       "      <td>male</td>\n",
       "      <td>86.60</td>\n",
       "      <td>92</td>\n",
       "      <td>82</td>\n",
       "      <td>91</td>\n",
       "      <td>99</td>\n",
       "      <td>94</td>\n",
       "      <td>82</td>\n",
       "      <td>78</td>\n",
       "    </tr>\n",
       "    <tr>\n",
       "      <th>104</th>\n",
       "      <td>1245</td>\n",
       "      <td>A</td>\n",
       "      <td>male</td>\n",
       "      <td>93.71</td>\n",
       "      <td>93</td>\n",
       "      <td>97</td>\n",
       "      <td>99</td>\n",
       "      <td>100</td>\n",
       "      <td>97</td>\n",
       "      <td>90</td>\n",
       "      <td>90</td>\n",
       "    </tr>\n",
       "  </tbody>\n",
       "</table>\n",
       "<p>105 rows × 11 columns</p>\n",
       "</div>"
      ],
      "text/plain": [
       "       ID class  gender    GPA  Algebra  Calculus1  Calculus2  Statistics  \\\n",
       "0    1141     A    male  73.47       64         81         87          60   \n",
       "1    1142     A  female  71.22       57         50         51          51   \n",
       "2    1143     A  female  74.56       47         48         71          60   \n",
       "3    1144     A  female  72.89       46         72         38          60   \n",
       "4    1145     A  female  70.11       49         45         63          60   \n",
       "..    ...   ...     ...    ...      ...        ...        ...         ...   \n",
       "100  1241     A  female  88.34       87         83         92          98   \n",
       "101  1242     B    male  89.84       98         77         95          98   \n",
       "102  1243     B    male  88.82       83         80         91          98   \n",
       "103  1244     A    male  86.60       92         82         91          99   \n",
       "104  1245     A    male  93.71       93         97         99         100   \n",
       "\n",
       "     Probability  Measure  Functional_analysis  \n",
       "0             74       71                   60  \n",
       "1             55       62                   61  \n",
       "2             61       68                   64  \n",
       "3             29       54                   51  \n",
       "4             66       66                   61  \n",
       "..           ...      ...                  ...  \n",
       "100           93       86                   90  \n",
       "101           96       88                  100  \n",
       "102           93       95                   71  \n",
       "103           94       82                   78  \n",
       "104           97       90                   90  \n",
       "\n",
       "[105 rows x 11 columns]"
      ]
     },
     "execution_count": 155,
     "metadata": {},
     "output_type": "execute_result"
    }
   ],
   "source": [
    "df"
   ]
  },
  {
   "cell_type": "code",
   "execution_count": 13,
   "id": "bf1a3a8f",
   "metadata": {},
   "outputs": [
    {
     "data": {
      "text/html": [
       "<div>\n",
       "<style scoped>\n",
       "    .dataframe tbody tr th:only-of-type {\n",
       "        vertical-align: middle;\n",
       "    }\n",
       "\n",
       "    .dataframe tbody tr th {\n",
       "        vertical-align: top;\n",
       "    }\n",
       "\n",
       "    .dataframe thead th {\n",
       "        text-align: right;\n",
       "    }\n",
       "</style>\n",
       "<table border=\"1\" class=\"dataframe\">\n",
       "  <thead>\n",
       "    <tr style=\"text-align: right;\">\n",
       "      <th></th>\n",
       "      <th>ID</th>\n",
       "      <th>GPA</th>\n",
       "      <th>Algebra</th>\n",
       "      <th>Calculus1</th>\n",
       "      <th>Calculus2</th>\n",
       "      <th>Statistics</th>\n",
       "      <th>Probability</th>\n",
       "      <th>Measure</th>\n",
       "      <th>Functional_analysis</th>\n",
       "    </tr>\n",
       "  </thead>\n",
       "  <tbody>\n",
       "    <tr>\n",
       "      <th>count</th>\n",
       "      <td>105.000000</td>\n",
       "      <td>105.000000</td>\n",
       "      <td>105.000000</td>\n",
       "      <td>105.000000</td>\n",
       "      <td>105.000000</td>\n",
       "      <td>105.000000</td>\n",
       "      <td>105.000000</td>\n",
       "      <td>105.000000</td>\n",
       "      <td>105.000000</td>\n",
       "    </tr>\n",
       "    <tr>\n",
       "      <th>mean</th>\n",
       "      <td>1193.000000</td>\n",
       "      <td>82.957048</td>\n",
       "      <td>76.057143</td>\n",
       "      <td>71.961905</td>\n",
       "      <td>78.942857</td>\n",
       "      <td>85.133333</td>\n",
       "      <td>83.876190</td>\n",
       "      <td>80.761905</td>\n",
       "      <td>75.323810</td>\n",
       "    </tr>\n",
       "    <tr>\n",
       "      <th>std</th>\n",
       "      <td>30.454885</td>\n",
       "      <td>6.053187</td>\n",
       "      <td>11.722618</td>\n",
       "      <td>12.197039</td>\n",
       "      <td>14.997326</td>\n",
       "      <td>10.269509</td>\n",
       "      <td>10.514363</td>\n",
       "      <td>10.296119</td>\n",
       "      <td>13.003324</td>\n",
       "    </tr>\n",
       "    <tr>\n",
       "      <th>min</th>\n",
       "      <td>1141.000000</td>\n",
       "      <td>63.490000</td>\n",
       "      <td>46.000000</td>\n",
       "      <td>38.000000</td>\n",
       "      <td>17.000000</td>\n",
       "      <td>51.000000</td>\n",
       "      <td>29.000000</td>\n",
       "      <td>54.000000</td>\n",
       "      <td>9.000000</td>\n",
       "    </tr>\n",
       "    <tr>\n",
       "      <th>25%</th>\n",
       "      <td>1167.000000</td>\n",
       "      <td>79.340000</td>\n",
       "      <td>67.000000</td>\n",
       "      <td>64.000000</td>\n",
       "      <td>71.000000</td>\n",
       "      <td>80.000000</td>\n",
       "      <td>79.000000</td>\n",
       "      <td>74.000000</td>\n",
       "      <td>67.000000</td>\n",
       "    </tr>\n",
       "    <tr>\n",
       "      <th>50%</th>\n",
       "      <td>1193.000000</td>\n",
       "      <td>84.110000</td>\n",
       "      <td>76.000000</td>\n",
       "      <td>73.000000</td>\n",
       "      <td>83.000000</td>\n",
       "      <td>87.000000</td>\n",
       "      <td>85.000000</td>\n",
       "      <td>81.000000</td>\n",
       "      <td>76.000000</td>\n",
       "    </tr>\n",
       "    <tr>\n",
       "      <th>75%</th>\n",
       "      <td>1219.000000</td>\n",
       "      <td>87.300000</td>\n",
       "      <td>84.000000</td>\n",
       "      <td>80.000000</td>\n",
       "      <td>91.000000</td>\n",
       "      <td>92.000000</td>\n",
       "      <td>92.000000</td>\n",
       "      <td>89.000000</td>\n",
       "      <td>85.000000</td>\n",
       "    </tr>\n",
       "    <tr>\n",
       "      <th>max</th>\n",
       "      <td>1245.000000</td>\n",
       "      <td>93.710000</td>\n",
       "      <td>98.000000</td>\n",
       "      <td>100.000000</td>\n",
       "      <td>99.000000</td>\n",
       "      <td>100.000000</td>\n",
       "      <td>97.000000</td>\n",
       "      <td>100.000000</td>\n",
       "      <td>100.000000</td>\n",
       "    </tr>\n",
       "  </tbody>\n",
       "</table>\n",
       "</div>"
      ],
      "text/plain": [
       "                ID         GPA     Algebra   Calculus1   Calculus2  \\\n",
       "count   105.000000  105.000000  105.000000  105.000000  105.000000   \n",
       "mean   1193.000000   82.957048   76.057143   71.961905   78.942857   \n",
       "std      30.454885    6.053187   11.722618   12.197039   14.997326   \n",
       "min    1141.000000   63.490000   46.000000   38.000000   17.000000   \n",
       "25%    1167.000000   79.340000   67.000000   64.000000   71.000000   \n",
       "50%    1193.000000   84.110000   76.000000   73.000000   83.000000   \n",
       "75%    1219.000000   87.300000   84.000000   80.000000   91.000000   \n",
       "max    1245.000000   93.710000   98.000000  100.000000   99.000000   \n",
       "\n",
       "       Statistics  Probability     Measure  Functional_analysis  \n",
       "count  105.000000   105.000000  105.000000           105.000000  \n",
       "mean    85.133333    83.876190   80.761905            75.323810  \n",
       "std     10.269509    10.514363   10.296119            13.003324  \n",
       "min     51.000000    29.000000   54.000000             9.000000  \n",
       "25%     80.000000    79.000000   74.000000            67.000000  \n",
       "50%     87.000000    85.000000   81.000000            76.000000  \n",
       "75%     92.000000    92.000000   89.000000            85.000000  \n",
       "max    100.000000    97.000000  100.000000           100.000000  "
      ]
     },
     "execution_count": 13,
     "metadata": {},
     "output_type": "execute_result"
    }
   ],
   "source": [
    "df.describe()"
   ]
  },
  {
   "cell_type": "markdown",
   "id": "270195ea",
   "metadata": {},
   "source": [
    "## GPA"
   ]
  },
  {
   "cell_type": "code",
   "execution_count": 15,
   "id": "64ac4684",
   "metadata": {},
   "outputs": [
    {
     "data": {
      "text/plain": [
       "0      73.47\n",
       "1      71.22\n",
       "2      74.56\n",
       "3      72.89\n",
       "4      70.11\n",
       "       ...  \n",
       "100    88.34\n",
       "101    89.84\n",
       "102    88.82\n",
       "103    86.60\n",
       "104    93.71\n",
       "Name: GPA, Length: 105, dtype: float64"
      ]
     },
     "execution_count": 15,
     "metadata": {},
     "output_type": "execute_result"
    }
   ],
   "source": [
    "gpa=df['GPA']\n",
    "gpa"
   ]
  },
  {
   "cell_type": "code",
   "execution_count": 17,
   "id": "6b8b1a3d",
   "metadata": {},
   "outputs": [
    {
     "data": {
      "text/plain": [
       "82.95704761904761"
      ]
     },
     "execution_count": 17,
     "metadata": {},
     "output_type": "execute_result"
    }
   ],
   "source": [
    "gpa.mean()"
   ]
  },
  {
   "cell_type": "code",
   "execution_count": 18,
   "id": "a9c08c92",
   "metadata": {},
   "outputs": [
    {
     "data": {
      "text/plain": [
       "84.11"
      ]
     },
     "execution_count": 18,
     "metadata": {},
     "output_type": "execute_result"
    }
   ],
   "source": [
    "gpa.median()"
   ]
  },
  {
   "cell_type": "code",
   "execution_count": 19,
   "id": "07cba02b",
   "metadata": {},
   "outputs": [
    {
     "data": {
      "text/plain": [
       "36.64106716117215"
      ]
     },
     "execution_count": 19,
     "metadata": {},
     "output_type": "execute_result"
    }
   ],
   "source": [
    "gpa.var()"
   ]
  },
  {
   "cell_type": "code",
   "execution_count": 20,
   "id": "5c26e188",
   "metadata": {},
   "outputs": [
    {
     "data": {
      "text/plain": [
       "10.75295238095238"
      ]
     },
     "execution_count": 20,
     "metadata": {},
     "output_type": "execute_result"
    }
   ],
   "source": [
    "range1=gpa.max()-gpa.mean()\n",
    "range1"
   ]
  },
  {
   "cell_type": "code",
   "execution_count": 21,
   "id": "763dba53",
   "metadata": {},
   "outputs": [
    {
     "data": {
      "text/plain": [
       "6.053186529520807"
      ]
     },
     "execution_count": 21,
     "metadata": {},
     "output_type": "execute_result"
    }
   ],
   "source": [
    "gpa.std()"
   ]
  },
  {
   "cell_type": "code",
   "execution_count": 22,
   "id": "47272b68",
   "metadata": {},
   "outputs": [
    {
     "data": {
      "text/plain": [
       "79.34"
      ]
     },
     "execution_count": 22,
     "metadata": {},
     "output_type": "execute_result"
    }
   ],
   "source": [
    "q1=np.percentile(gpa,25)\n",
    "q1"
   ]
  },
  {
   "cell_type": "code",
   "execution_count": 23,
   "id": "fb6f046a",
   "metadata": {},
   "outputs": [
    {
     "data": {
      "text/plain": [
       "84.11"
      ]
     },
     "execution_count": 23,
     "metadata": {},
     "output_type": "execute_result"
    }
   ],
   "source": [
    "q2=np.percentile(gpa,50)\n",
    "q2"
   ]
  },
  {
   "cell_type": "code",
   "execution_count": 24,
   "id": "94119a47",
   "metadata": {},
   "outputs": [
    {
     "data": {
      "text/plain": [
       "87.3"
      ]
     },
     "execution_count": 24,
     "metadata": {},
     "output_type": "execute_result"
    }
   ],
   "source": [
    "q3=np.percentile(gpa,75)\n",
    "q3"
   ]
  },
  {
   "cell_type": "code",
   "execution_count": 25,
   "id": "d9bd914e",
   "metadata": {},
   "outputs": [
    {
     "data": {
      "text/plain": [
       "7.959999999999994"
      ]
     },
     "execution_count": 25,
     "metadata": {},
     "output_type": "execute_result"
    }
   ],
   "source": [
    "iqr=q3-q1\n",
    "iqr"
   ]
  },
  {
   "cell_type": "code",
   "execution_count": 26,
   "id": "0e212c10",
   "metadata": {},
   "outputs": [],
   "source": [
    "upperlimit =q3+(1.5*q3)\n",
    "lowerlimit =q1-(1.5*q1)"
   ]
  },
  {
   "cell_type": "code",
   "execution_count": 27,
   "id": "b7c2e6fd",
   "metadata": {},
   "outputs": [
    {
     "data": {
      "text/plain": [
       "218.25"
      ]
     },
     "execution_count": 27,
     "metadata": {},
     "output_type": "execute_result"
    }
   ],
   "source": [
    "upperlimit"
   ]
  },
  {
   "cell_type": "code",
   "execution_count": 28,
   "id": "32e0a928",
   "metadata": {},
   "outputs": [
    {
     "data": {
      "text/plain": [
       "-39.67"
      ]
     },
     "execution_count": 28,
     "metadata": {},
     "output_type": "execute_result"
    }
   ],
   "source": [
    "lowerlimit\n"
   ]
  },
  {
   "cell_type": "markdown",
   "id": "d5075933",
   "metadata": {},
   "source": [
    "## Algebra"
   ]
  },
  {
   "cell_type": "code",
   "execution_count": 32,
   "id": "c858531f",
   "metadata": {},
   "outputs": [
    {
     "data": {
      "text/plain": [
       "0      64\n",
       "1      57\n",
       "2      47\n",
       "3      46\n",
       "4      49\n",
       "       ..\n",
       "100    87\n",
       "101    98\n",
       "102    83\n",
       "103    92\n",
       "104    93\n",
       "Name: Algebra, Length: 105, dtype: int64"
      ]
     },
     "execution_count": 32,
     "metadata": {},
     "output_type": "execute_result"
    }
   ],
   "source": [
    "algebra=df['Algebra']\n",
    "algebra"
   ]
  },
  {
   "cell_type": "code",
   "execution_count": 37,
   "id": "8dd56185",
   "metadata": {},
   "outputs": [
    {
     "data": {
      "text/plain": [
       "76.05714285714286"
      ]
     },
     "execution_count": 37,
     "metadata": {},
     "output_type": "execute_result"
    }
   ],
   "source": [
    "algavg = algebra.mean()\n",
    "algavg"
   ]
  },
  {
   "cell_type": "code",
   "execution_count": 38,
   "id": "cd134a62",
   "metadata": {},
   "outputs": [
    {
     "data": {
      "text/plain": [
       "76.0"
      ]
     },
     "execution_count": 38,
     "metadata": {},
     "output_type": "execute_result"
    }
   ],
   "source": [
    "algebra.median()"
   ]
  },
  {
   "cell_type": "code",
   "execution_count": 39,
   "id": "fa371b9d",
   "metadata": {},
   "outputs": [
    {
     "data": {
      "text/plain": [
       "137.41978021978022"
      ]
     },
     "execution_count": 39,
     "metadata": {},
     "output_type": "execute_result"
    }
   ],
   "source": [
    "algebra.var()\n"
   ]
  },
  {
   "cell_type": "code",
   "execution_count": 40,
   "id": "dec8e224",
   "metadata": {},
   "outputs": [
    {
     "data": {
      "text/plain": [
       "11.722618317585036"
      ]
     },
     "execution_count": 40,
     "metadata": {},
     "output_type": "execute_result"
    }
   ],
   "source": [
    "algebra.std()\n"
   ]
  },
  {
   "cell_type": "code",
   "execution_count": 41,
   "id": "b8b7f7c1",
   "metadata": {},
   "outputs": [
    {
     "data": {
      "text/plain": [
       "52"
      ]
     },
     "execution_count": 41,
     "metadata": {},
     "output_type": "execute_result"
    }
   ],
   "source": [
    "range2=algebra.max()-algebra.min()\n",
    "range2"
   ]
  },
  {
   "cell_type": "code",
   "execution_count": 42,
   "id": "db4294d3",
   "metadata": {},
   "outputs": [
    {
     "data": {
      "text/plain": [
       "67.0"
      ]
     },
     "execution_count": 42,
     "metadata": {},
     "output_type": "execute_result"
    }
   ],
   "source": [
    "q1=np.percentile(algebra,25)\n",
    "q1"
   ]
  },
  {
   "cell_type": "code",
   "execution_count": 43,
   "id": "85bf1ca7",
   "metadata": {},
   "outputs": [
    {
     "data": {
      "text/plain": [
       "76.0"
      ]
     },
     "execution_count": 43,
     "metadata": {},
     "output_type": "execute_result"
    }
   ],
   "source": [
    "q2=np.percentile(algebra,50)\n",
    "q2"
   ]
  },
  {
   "cell_type": "code",
   "execution_count": 44,
   "id": "6459e6c1",
   "metadata": {},
   "outputs": [
    {
     "data": {
      "text/plain": [
       "84.0"
      ]
     },
     "execution_count": 44,
     "metadata": {},
     "output_type": "execute_result"
    }
   ],
   "source": [
    "q3 = np.percentile(algebra,75)\n",
    "q3"
   ]
  },
  {
   "cell_type": "code",
   "execution_count": 45,
   "id": "1de752eb",
   "metadata": {},
   "outputs": [
    {
     "data": {
      "text/plain": [
       "17.0"
      ]
     },
     "execution_count": 45,
     "metadata": {},
     "output_type": "execute_result"
    }
   ],
   "source": [
    "iqr=q3-q1\n",
    "iqr"
   ]
  },
  {
   "cell_type": "code",
   "execution_count": 46,
   "id": "b07f9cc5",
   "metadata": {},
   "outputs": [],
   "source": [
    "upperlimit =q3+(1.5*q3)\n",
    "lowerlimit =q1-(1.5*q1)"
   ]
  },
  {
   "cell_type": "code",
   "execution_count": 47,
   "id": "290916c0",
   "metadata": {},
   "outputs": [
    {
     "data": {
      "text/plain": [
       "210.0"
      ]
     },
     "execution_count": 47,
     "metadata": {},
     "output_type": "execute_result"
    }
   ],
   "source": [
    "upperlimit"
   ]
  },
  {
   "cell_type": "code",
   "execution_count": 48,
   "id": "c537333b",
   "metadata": {},
   "outputs": [
    {
     "data": {
      "text/plain": [
       "-33.5"
      ]
     },
     "execution_count": 48,
     "metadata": {},
     "output_type": "execute_result"
    }
   ],
   "source": [
    "lowerlimit"
   ]
  },
  {
   "cell_type": "markdown",
   "id": "ff19a700",
   "metadata": {},
   "source": [
    "## Calculus1"
   ]
  },
  {
   "cell_type": "code",
   "execution_count": 50,
   "id": "44b72f82",
   "metadata": {},
   "outputs": [
    {
     "data": {
      "text/plain": [
       "0      81\n",
       "1      50\n",
       "2      48\n",
       "3      72\n",
       "4      45\n",
       "       ..\n",
       "100    83\n",
       "101    77\n",
       "102    80\n",
       "103    82\n",
       "104    97\n",
       "Name: Calculus1, Length: 105, dtype: int64"
      ]
     },
     "execution_count": 50,
     "metadata": {},
     "output_type": "execute_result"
    }
   ],
   "source": [
    "calculus1=df['Calculus1']\n",
    "calculus1"
   ]
  },
  {
   "cell_type": "code",
   "execution_count": 51,
   "id": "d853a2a0",
   "metadata": {},
   "outputs": [
    {
     "data": {
      "text/plain": [
       "71.96190476190476"
      ]
     },
     "execution_count": 51,
     "metadata": {},
     "output_type": "execute_result"
    }
   ],
   "source": [
    "calavg=calculus1.mean()\n",
    "calavg"
   ]
  },
  {
   "cell_type": "code",
   "execution_count": 52,
   "id": "df93e6b6",
   "metadata": {},
   "outputs": [
    {
     "data": {
      "text/plain": [
       "73.0"
      ]
     },
     "execution_count": 52,
     "metadata": {},
     "output_type": "execute_result"
    }
   ],
   "source": [
    "calculus1.median()"
   ]
  },
  {
   "cell_type": "code",
   "execution_count": 53,
   "id": "2bbeffb1",
   "metadata": {},
   "outputs": [
    {
     "data": {
      "text/plain": [
       "148.76776556776557"
      ]
     },
     "execution_count": 53,
     "metadata": {},
     "output_type": "execute_result"
    }
   ],
   "source": [
    "calculus1.var()"
   ]
  },
  {
   "cell_type": "code",
   "execution_count": 54,
   "id": "b572b11a",
   "metadata": {},
   "outputs": [
    {
     "data": {
      "text/plain": [
       "12.197039213176515"
      ]
     },
     "execution_count": 54,
     "metadata": {},
     "output_type": "execute_result"
    }
   ],
   "source": [
    "calculus1.std()"
   ]
  },
  {
   "cell_type": "code",
   "execution_count": 55,
   "id": "b0426b79",
   "metadata": {},
   "outputs": [
    {
     "data": {
      "text/plain": [
       "62"
      ]
     },
     "execution_count": 55,
     "metadata": {},
     "output_type": "execute_result"
    }
   ],
   "source": [
    "range3=calculus1.max()-calculus1.min()\n",
    "range3"
   ]
  },
  {
   "cell_type": "code",
   "execution_count": 56,
   "id": "16ea8b37",
   "metadata": {},
   "outputs": [
    {
     "data": {
      "text/plain": [
       "64.0"
      ]
     },
     "execution_count": 56,
     "metadata": {},
     "output_type": "execute_result"
    }
   ],
   "source": [
    "q1=np.percentile(calculus1,25)\n",
    "q1"
   ]
  },
  {
   "cell_type": "code",
   "execution_count": 57,
   "id": "bc6911c5",
   "metadata": {},
   "outputs": [
    {
     "data": {
      "text/plain": [
       "73.0"
      ]
     },
     "execution_count": 57,
     "metadata": {},
     "output_type": "execute_result"
    }
   ],
   "source": [
    "q2=np.percentile(calculus1,50)\n",
    "q2"
   ]
  },
  {
   "cell_type": "code",
   "execution_count": 58,
   "id": "032d5c08",
   "metadata": {},
   "outputs": [
    {
     "data": {
      "text/plain": [
       "80.0"
      ]
     },
     "execution_count": 58,
     "metadata": {},
     "output_type": "execute_result"
    }
   ],
   "source": [
    "q3=np.percentile(calculus1,75)\n",
    "q3"
   ]
  },
  {
   "cell_type": "code",
   "execution_count": 59,
   "id": "21d4a019",
   "metadata": {},
   "outputs": [
    {
     "data": {
      "text/plain": [
       "16.0"
      ]
     },
     "execution_count": 59,
     "metadata": {},
     "output_type": "execute_result"
    }
   ],
   "source": [
    "iqr=q3-q1\n",
    "iqr"
   ]
  },
  {
   "cell_type": "code",
   "execution_count": 60,
   "id": "427f3b76",
   "metadata": {},
   "outputs": [],
   "source": [
    "upperlimit =q3+(1.5*q3)\n",
    "lowerlimit =q1-(1.5*q1)"
   ]
  },
  {
   "cell_type": "code",
   "execution_count": 61,
   "id": "9a28acb6",
   "metadata": {},
   "outputs": [
    {
     "data": {
      "text/plain": [
       "200.0"
      ]
     },
     "execution_count": 61,
     "metadata": {},
     "output_type": "execute_result"
    }
   ],
   "source": [
    "upperlimit"
   ]
  },
  {
   "cell_type": "code",
   "execution_count": 62,
   "id": "896feaaa",
   "metadata": {},
   "outputs": [
    {
     "data": {
      "text/plain": [
       "-32.0"
      ]
     },
     "execution_count": 62,
     "metadata": {},
     "output_type": "execute_result"
    }
   ],
   "source": [
    "lowerlimit"
   ]
  },
  {
   "cell_type": "markdown",
   "id": "26156802",
   "metadata": {},
   "source": [
    "## Calculus2"
   ]
  },
  {
   "cell_type": "code",
   "execution_count": 63,
   "id": "807cb060",
   "metadata": {},
   "outputs": [
    {
     "data": {
      "text/plain": [
       "0      87\n",
       "1      51\n",
       "2      71\n",
       "3      38\n",
       "4      63\n",
       "       ..\n",
       "100    92\n",
       "101    95\n",
       "102    91\n",
       "103    91\n",
       "104    99\n",
       "Name: Calculus2, Length: 105, dtype: int64"
      ]
     },
     "execution_count": 63,
     "metadata": {},
     "output_type": "execute_result"
    }
   ],
   "source": [
    "calculus2=df['Calculus2']\n",
    "calculus2"
   ]
  },
  {
   "cell_type": "code",
   "execution_count": 64,
   "id": "6f838328",
   "metadata": {},
   "outputs": [
    {
     "data": {
      "text/plain": [
       "78.94285714285714"
      ]
     },
     "execution_count": 64,
     "metadata": {},
     "output_type": "execute_result"
    }
   ],
   "source": [
    "calavg2=calculus2.mean()\n",
    "calavg2"
   ]
  },
  {
   "cell_type": "code",
   "execution_count": 65,
   "id": "09ba480b",
   "metadata": {},
   "outputs": [
    {
     "data": {
      "text/plain": [
       "83.0"
      ]
     },
     "execution_count": 65,
     "metadata": {},
     "output_type": "execute_result"
    }
   ],
   "source": [
    "calculus2.median()"
   ]
  },
  {
   "cell_type": "code",
   "execution_count": 66,
   "id": "84886e9d",
   "metadata": {},
   "outputs": [
    {
     "data": {
      "text/plain": [
       "224.91978021978022"
      ]
     },
     "execution_count": 66,
     "metadata": {},
     "output_type": "execute_result"
    }
   ],
   "source": [
    "calculus2.var()"
   ]
  },
  {
   "cell_type": "code",
   "execution_count": 67,
   "id": "4d32dc2e",
   "metadata": {},
   "outputs": [
    {
     "data": {
      "text/plain": [
       "14.997325768942282"
      ]
     },
     "execution_count": 67,
     "metadata": {},
     "output_type": "execute_result"
    }
   ],
   "source": [
    "calculus2.std()"
   ]
  },
  {
   "cell_type": "code",
   "execution_count": 68,
   "id": "1eb03b6a",
   "metadata": {},
   "outputs": [
    {
     "data": {
      "text/plain": [
       "82"
      ]
     },
     "execution_count": 68,
     "metadata": {},
     "output_type": "execute_result"
    }
   ],
   "source": [
    "range4=calculus2.max()-calculus2.min()\n",
    "range4"
   ]
  },
  {
   "cell_type": "code",
   "execution_count": 69,
   "id": "c7ac550e",
   "metadata": {},
   "outputs": [
    {
     "data": {
      "text/plain": [
       "71.0"
      ]
     },
     "execution_count": 69,
     "metadata": {},
     "output_type": "execute_result"
    }
   ],
   "source": [
    "q1 = np.percentile(calculus2,25)\n",
    "q1"
   ]
  },
  {
   "cell_type": "code",
   "execution_count": 70,
   "id": "4980b9df",
   "metadata": {},
   "outputs": [
    {
     "data": {
      "text/plain": [
       "83.0"
      ]
     },
     "execution_count": 70,
     "metadata": {},
     "output_type": "execute_result"
    }
   ],
   "source": [
    "q2=np.percentile(calculus2,50)\n",
    "q2"
   ]
  },
  {
   "cell_type": "code",
   "execution_count": 71,
   "id": "a2b0ffbd",
   "metadata": {},
   "outputs": [
    {
     "data": {
      "text/plain": [
       "91.0"
      ]
     },
     "execution_count": 71,
     "metadata": {},
     "output_type": "execute_result"
    }
   ],
   "source": [
    "q3=np.percentile(calculus2,75)\n",
    "q3"
   ]
  },
  {
   "cell_type": "code",
   "execution_count": 72,
   "id": "40eeb601",
   "metadata": {},
   "outputs": [
    {
     "data": {
      "text/plain": [
       "20.0"
      ]
     },
     "execution_count": 72,
     "metadata": {},
     "output_type": "execute_result"
    }
   ],
   "source": [
    "iqr=q3-q1\n",
    "iqr"
   ]
  },
  {
   "cell_type": "code",
   "execution_count": 73,
   "id": "4fb654e9",
   "metadata": {},
   "outputs": [],
   "source": [
    "upperlimit =q3+(1.5*q3)\n",
    "lowerlimit =q1-(1.5*q1)"
   ]
  },
  {
   "cell_type": "code",
   "execution_count": 74,
   "id": "c8263780",
   "metadata": {},
   "outputs": [
    {
     "data": {
      "text/plain": [
       "227.5"
      ]
     },
     "execution_count": 74,
     "metadata": {},
     "output_type": "execute_result"
    }
   ],
   "source": [
    "upperlimit"
   ]
  },
  {
   "cell_type": "code",
   "execution_count": 75,
   "id": "943f0c39",
   "metadata": {},
   "outputs": [
    {
     "data": {
      "text/plain": [
       "-35.5"
      ]
     },
     "execution_count": 75,
     "metadata": {},
     "output_type": "execute_result"
    }
   ],
   "source": [
    "lowerlimit"
   ]
  },
  {
   "cell_type": "markdown",
   "id": "10a8cd2f",
   "metadata": {},
   "source": [
    "## Statistics"
   ]
  },
  {
   "cell_type": "code",
   "execution_count": 76,
   "id": "019f3ceb",
   "metadata": {},
   "outputs": [
    {
     "data": {
      "text/plain": [
       "0       60\n",
       "1       51\n",
       "2       60\n",
       "3       60\n",
       "4       60\n",
       "      ... \n",
       "100     98\n",
       "101     98\n",
       "102     98\n",
       "103     99\n",
       "104    100\n",
       "Name: Statistics, Length: 105, dtype: int64"
      ]
     },
     "execution_count": 76,
     "metadata": {},
     "output_type": "execute_result"
    }
   ],
   "source": [
    "statistics=df['Statistics']\n",
    "statistics"
   ]
  },
  {
   "cell_type": "code",
   "execution_count": 77,
   "id": "b0ac367c",
   "metadata": {},
   "outputs": [
    {
     "data": {
      "text/plain": [
       "85.13333333333334"
      ]
     },
     "execution_count": 77,
     "metadata": {},
     "output_type": "execute_result"
    }
   ],
   "source": [
    "statavg=statistics.mean()\n",
    "statavg"
   ]
  },
  {
   "cell_type": "code",
   "execution_count": 78,
   "id": "f7e73fba",
   "metadata": {},
   "outputs": [
    {
     "data": {
      "text/plain": [
       "87.0"
      ]
     },
     "execution_count": 78,
     "metadata": {},
     "output_type": "execute_result"
    }
   ],
   "source": [
    "statistics.median()"
   ]
  },
  {
   "cell_type": "code",
   "execution_count": 79,
   "id": "8ce7d972",
   "metadata": {},
   "outputs": [
    {
     "data": {
      "text/plain": [
       "105.4628205128205"
      ]
     },
     "execution_count": 79,
     "metadata": {},
     "output_type": "execute_result"
    }
   ],
   "source": [
    "statistics.var()"
   ]
  },
  {
   "cell_type": "code",
   "execution_count": 80,
   "id": "0a90e4db",
   "metadata": {},
   "outputs": [
    {
     "data": {
      "text/plain": [
       "10.269509263485793"
      ]
     },
     "execution_count": 80,
     "metadata": {},
     "output_type": "execute_result"
    }
   ],
   "source": [
    "statistics.std()"
   ]
  },
  {
   "cell_type": "code",
   "execution_count": 81,
   "id": "07fdacf2",
   "metadata": {},
   "outputs": [
    {
     "data": {
      "text/plain": [
       "14.86666666666666"
      ]
     },
     "execution_count": 81,
     "metadata": {},
     "output_type": "execute_result"
    }
   ],
   "source": [
    "range5=statistics.max()-statistics.mean()\n",
    "range5"
   ]
  },
  {
   "cell_type": "code",
   "execution_count": 82,
   "id": "56f8011c",
   "metadata": {},
   "outputs": [
    {
     "data": {
      "text/plain": [
       "80.0"
      ]
     },
     "execution_count": 82,
     "metadata": {},
     "output_type": "execute_result"
    }
   ],
   "source": [
    "q1=np.percentile(statistics,25)\n",
    "q1"
   ]
  },
  {
   "cell_type": "code",
   "execution_count": 83,
   "id": "49538bf1",
   "metadata": {},
   "outputs": [
    {
     "data": {
      "text/plain": [
       "87.0"
      ]
     },
     "execution_count": 83,
     "metadata": {},
     "output_type": "execute_result"
    }
   ],
   "source": [
    "q2=np.percentile(statistics,50)\n",
    "q2"
   ]
  },
  {
   "cell_type": "code",
   "execution_count": 84,
   "id": "7297866c",
   "metadata": {},
   "outputs": [
    {
     "data": {
      "text/plain": [
       "92.0"
      ]
     },
     "execution_count": 84,
     "metadata": {},
     "output_type": "execute_result"
    }
   ],
   "source": [
    "q3=np.percentile(statistics,75)\n",
    "q3"
   ]
  },
  {
   "cell_type": "code",
   "execution_count": 85,
   "id": "d8277e93",
   "metadata": {},
   "outputs": [
    {
     "data": {
      "text/plain": [
       "12.0"
      ]
     },
     "execution_count": 85,
     "metadata": {},
     "output_type": "execute_result"
    }
   ],
   "source": [
    "iqr=q3-q1\n",
    "iqr"
   ]
  },
  {
   "cell_type": "code",
   "execution_count": 86,
   "id": "c7051845",
   "metadata": {},
   "outputs": [],
   "source": [
    "upperlimit =q3+(1.5*q3)\n",
    "lowerlimit =q1-(1.5*q1)"
   ]
  },
  {
   "cell_type": "code",
   "execution_count": 87,
   "id": "19c6aa7f",
   "metadata": {},
   "outputs": [
    {
     "data": {
      "text/plain": [
       "230.0"
      ]
     },
     "execution_count": 87,
     "metadata": {},
     "output_type": "execute_result"
    }
   ],
   "source": [
    "upperlimit"
   ]
  },
  {
   "cell_type": "code",
   "execution_count": 88,
   "id": "90543ee9",
   "metadata": {},
   "outputs": [
    {
     "data": {
      "text/plain": [
       "-40.0"
      ]
     },
     "execution_count": 88,
     "metadata": {},
     "output_type": "execute_result"
    }
   ],
   "source": [
    "lowerlimit"
   ]
  },
  {
   "cell_type": "markdown",
   "id": "8201e552",
   "metadata": {},
   "source": [
    "## Probability"
   ]
  },
  {
   "cell_type": "code",
   "execution_count": 89,
   "id": "a3a011d2",
   "metadata": {},
   "outputs": [
    {
     "data": {
      "text/plain": [
       "0      74\n",
       "1      55\n",
       "2      61\n",
       "3      29\n",
       "4      66\n",
       "       ..\n",
       "100    93\n",
       "101    96\n",
       "102    93\n",
       "103    94\n",
       "104    97\n",
       "Name: Probability, Length: 105, dtype: int64"
      ]
     },
     "execution_count": 89,
     "metadata": {},
     "output_type": "execute_result"
    }
   ],
   "source": [
    "probability=df['Probability']\n",
    "probability"
   ]
  },
  {
   "cell_type": "code",
   "execution_count": 90,
   "id": "4e20d06e",
   "metadata": {},
   "outputs": [
    {
     "data": {
      "text/plain": [
       "83.87619047619047"
      ]
     },
     "execution_count": 90,
     "metadata": {},
     "output_type": "execute_result"
    }
   ],
   "source": [
    "probavg=probability.mean()\n",
    "probavg"
   ]
  },
  {
   "cell_type": "code",
   "execution_count": 91,
   "id": "949e3da4",
   "metadata": {},
   "outputs": [
    {
     "data": {
      "text/plain": [
       "85.0"
      ]
     },
     "execution_count": 91,
     "metadata": {},
     "output_type": "execute_result"
    }
   ],
   "source": [
    "probability.median()"
   ]
  },
  {
   "cell_type": "code",
   "execution_count": 92,
   "id": "5bb2898f",
   "metadata": {},
   "outputs": [
    {
     "data": {
      "text/plain": [
       "110.55183150183149"
      ]
     },
     "execution_count": 92,
     "metadata": {},
     "output_type": "execute_result"
    }
   ],
   "source": [
    "probability.var()"
   ]
  },
  {
   "cell_type": "code",
   "execution_count": 93,
   "id": "6b52c361",
   "metadata": {},
   "outputs": [
    {
     "data": {
      "text/plain": [
       "10.51436310490709"
      ]
     },
     "execution_count": 93,
     "metadata": {},
     "output_type": "execute_result"
    }
   ],
   "source": [
    "probability.std()"
   ]
  },
  {
   "cell_type": "code",
   "execution_count": 94,
   "id": "ba91bf3d",
   "metadata": {},
   "outputs": [
    {
     "data": {
      "text/plain": [
       "68"
      ]
     },
     "execution_count": 94,
     "metadata": {},
     "output_type": "execute_result"
    }
   ],
   "source": [
    "range6=probability.max()-probability.min()\n",
    "range6"
   ]
  },
  {
   "cell_type": "code",
   "execution_count": 95,
   "id": "38c5d998",
   "metadata": {},
   "outputs": [
    {
     "data": {
      "text/plain": [
       "79.0"
      ]
     },
     "execution_count": 95,
     "metadata": {},
     "output_type": "execute_result"
    }
   ],
   "source": [
    "q1=np.percentile(probability,25)\n",
    "q1"
   ]
  },
  {
   "cell_type": "code",
   "execution_count": 96,
   "id": "5188a50f",
   "metadata": {},
   "outputs": [
    {
     "data": {
      "text/plain": [
       "85.0"
      ]
     },
     "execution_count": 96,
     "metadata": {},
     "output_type": "execute_result"
    }
   ],
   "source": [
    "q2=np.percentile(probability,50)\n",
    "q2"
   ]
  },
  {
   "cell_type": "code",
   "execution_count": 97,
   "id": "0fa0472c",
   "metadata": {},
   "outputs": [
    {
     "data": {
      "text/plain": [
       "92.0"
      ]
     },
     "execution_count": 97,
     "metadata": {},
     "output_type": "execute_result"
    }
   ],
   "source": [
    "q3=np.percentile(probability,75)\n",
    "q3"
   ]
  },
  {
   "cell_type": "code",
   "execution_count": 98,
   "id": "227a3d88",
   "metadata": {},
   "outputs": [
    {
     "data": {
      "text/plain": [
       "13.0"
      ]
     },
     "execution_count": 98,
     "metadata": {},
     "output_type": "execute_result"
    }
   ],
   "source": [
    "iqr=q3-q1\n",
    "iqr"
   ]
  },
  {
   "cell_type": "code",
   "execution_count": 99,
   "id": "653b8b09",
   "metadata": {},
   "outputs": [],
   "source": [
    "upperlimit = q3+(1.5*q3)\n",
    "lowerlimit = q1-(1.5*q1)"
   ]
  },
  {
   "cell_type": "code",
   "execution_count": 100,
   "id": "dfddd7aa",
   "metadata": {},
   "outputs": [
    {
     "data": {
      "text/plain": [
       "230.0"
      ]
     },
     "execution_count": 100,
     "metadata": {},
     "output_type": "execute_result"
    }
   ],
   "source": [
    "upperlimit"
   ]
  },
  {
   "cell_type": "code",
   "execution_count": 101,
   "id": "ec3adc94",
   "metadata": {},
   "outputs": [
    {
     "data": {
      "text/plain": [
       "-39.5"
      ]
     },
     "execution_count": 101,
     "metadata": {},
     "output_type": "execute_result"
    }
   ],
   "source": [
    "lowerlimit"
   ]
  },
  {
   "cell_type": "markdown",
   "id": "8a6c2e33",
   "metadata": {},
   "source": [
    "## Measure"
   ]
  },
  {
   "cell_type": "code",
   "execution_count": 102,
   "id": "3ce69396",
   "metadata": {},
   "outputs": [
    {
     "data": {
      "text/plain": [
       "0      71\n",
       "1      62\n",
       "2      68\n",
       "3      54\n",
       "4      66\n",
       "       ..\n",
       "100    86\n",
       "101    88\n",
       "102    95\n",
       "103    82\n",
       "104    90\n",
       "Name: Measure, Length: 105, dtype: int64"
      ]
     },
     "execution_count": 102,
     "metadata": {},
     "output_type": "execute_result"
    }
   ],
   "source": [
    "measure=df['Measure']\n",
    "measure"
   ]
  },
  {
   "cell_type": "code",
   "execution_count": 103,
   "id": "92253513",
   "metadata": {},
   "outputs": [
    {
     "data": {
      "text/plain": [
       "80.76190476190476"
      ]
     },
     "execution_count": 103,
     "metadata": {},
     "output_type": "execute_result"
    }
   ],
   "source": [
    "meaavg=measure.mean()\n",
    "meaavg"
   ]
  },
  {
   "cell_type": "code",
   "execution_count": 104,
   "id": "fc5c2c28",
   "metadata": {},
   "outputs": [
    {
     "data": {
      "text/plain": [
       "81.0"
      ]
     },
     "execution_count": 104,
     "metadata": {},
     "output_type": "execute_result"
    }
   ],
   "source": [
    "measure.median()"
   ]
  },
  {
   "cell_type": "code",
   "execution_count": 105,
   "id": "2443189e",
   "metadata": {},
   "outputs": [
    {
     "data": {
      "text/plain": [
       "106.01007326007326"
      ]
     },
     "execution_count": 105,
     "metadata": {},
     "output_type": "execute_result"
    }
   ],
   "source": [
    "measure.var()"
   ]
  },
  {
   "cell_type": "code",
   "execution_count": 106,
   "id": "488ed8e8",
   "metadata": {},
   "outputs": [
    {
     "data": {
      "text/plain": [
       "10.296119330120122"
      ]
     },
     "execution_count": 106,
     "metadata": {},
     "output_type": "execute_result"
    }
   ],
   "source": [
    "measure.std()"
   ]
  },
  {
   "cell_type": "code",
   "execution_count": 107,
   "id": "064addb2",
   "metadata": {},
   "outputs": [
    {
     "data": {
      "text/plain": [
       "46"
      ]
     },
     "execution_count": 107,
     "metadata": {},
     "output_type": "execute_result"
    }
   ],
   "source": [
    "range7=measure.max()-measure.min()\n",
    "range7"
   ]
  },
  {
   "cell_type": "code",
   "execution_count": 108,
   "id": "6e0a823e",
   "metadata": {},
   "outputs": [
    {
     "data": {
      "text/plain": [
       "74.0"
      ]
     },
     "execution_count": 108,
     "metadata": {},
     "output_type": "execute_result"
    }
   ],
   "source": [
    "q1=np.percentile(measure,25)\n",
    "q1"
   ]
  },
  {
   "cell_type": "code",
   "execution_count": 109,
   "id": "47c62144",
   "metadata": {},
   "outputs": [
    {
     "data": {
      "text/plain": [
       "81.0"
      ]
     },
     "execution_count": 109,
     "metadata": {},
     "output_type": "execute_result"
    }
   ],
   "source": [
    "q2=np.percentile(measure,50)\n",
    "q2"
   ]
  },
  {
   "cell_type": "code",
   "execution_count": 110,
   "id": "c6cacb7c",
   "metadata": {},
   "outputs": [
    {
     "data": {
      "text/plain": [
       "89.0"
      ]
     },
     "execution_count": 110,
     "metadata": {},
     "output_type": "execute_result"
    }
   ],
   "source": [
    "q3=np.percentile(measure,75)\n",
    "q3"
   ]
  },
  {
   "cell_type": "code",
   "execution_count": 111,
   "id": "a10125ae",
   "metadata": {},
   "outputs": [
    {
     "data": {
      "text/plain": [
       "15.0"
      ]
     },
     "execution_count": 111,
     "metadata": {},
     "output_type": "execute_result"
    }
   ],
   "source": [
    "iqr=q3-q1\n",
    "iqr"
   ]
  },
  {
   "cell_type": "code",
   "execution_count": 112,
   "id": "3e0c43ae",
   "metadata": {},
   "outputs": [],
   "source": [
    "upperlimit =q3+(1.5*q3)\n",
    "lowerlimit =q1-(1.5*q1)"
   ]
  },
  {
   "cell_type": "code",
   "execution_count": 113,
   "id": "51562a7b",
   "metadata": {},
   "outputs": [
    {
     "data": {
      "text/plain": [
       "222.5"
      ]
     },
     "execution_count": 113,
     "metadata": {},
     "output_type": "execute_result"
    }
   ],
   "source": [
    "upperlimit"
   ]
  },
  {
   "cell_type": "code",
   "execution_count": 114,
   "id": "6fa23b52",
   "metadata": {},
   "outputs": [
    {
     "data": {
      "text/plain": [
       "-37.0"
      ]
     },
     "execution_count": 114,
     "metadata": {},
     "output_type": "execute_result"
    }
   ],
   "source": [
    "lowerlimit"
   ]
  },
  {
   "cell_type": "markdown",
   "id": "05173c9f",
   "metadata": {},
   "source": [
    "## Functional_analysis"
   ]
  },
  {
   "cell_type": "code",
   "execution_count": 117,
   "id": "e4162c39",
   "metadata": {},
   "outputs": [
    {
     "data": {
      "text/plain": [
       "0       60\n",
       "1       61\n",
       "2       64\n",
       "3       51\n",
       "4       61\n",
       "      ... \n",
       "100     90\n",
       "101    100\n",
       "102     71\n",
       "103     78\n",
       "104     90\n",
       "Name: Functional_analysis, Length: 105, dtype: int64"
      ]
     },
     "execution_count": 117,
     "metadata": {},
     "output_type": "execute_result"
    }
   ],
   "source": [
    "fa=df['Functional_analysis']\n",
    "fa"
   ]
  },
  {
   "cell_type": "code",
   "execution_count": 118,
   "id": "1e562a78",
   "metadata": {},
   "outputs": [
    {
     "data": {
      "text/plain": [
       "75.32380952380953"
      ]
     },
     "execution_count": 118,
     "metadata": {},
     "output_type": "execute_result"
    }
   ],
   "source": [
    "faavg=fa.mean()\n",
    "faavg"
   ]
  },
  {
   "cell_type": "code",
   "execution_count": 119,
   "id": "7a5bbe5d",
   "metadata": {},
   "outputs": [
    {
     "data": {
      "text/plain": [
       "76.0"
      ]
     },
     "execution_count": 119,
     "metadata": {},
     "output_type": "execute_result"
    }
   ],
   "source": [
    "fa.median()"
   ]
  },
  {
   "cell_type": "code",
   "execution_count": 120,
   "id": "ae0024ea",
   "metadata": {},
   "outputs": [
    {
     "data": {
      "text/plain": [
       "169.08644688644688"
      ]
     },
     "execution_count": 120,
     "metadata": {},
     "output_type": "execute_result"
    }
   ],
   "source": [
    "fa.var()"
   ]
  },
  {
   "cell_type": "code",
   "execution_count": 121,
   "id": "20788ca8",
   "metadata": {},
   "outputs": [
    {
     "data": {
      "text/plain": [
       "13.003324455170949"
      ]
     },
     "execution_count": 121,
     "metadata": {},
     "output_type": "execute_result"
    }
   ],
   "source": [
    "fa.std()"
   ]
  },
  {
   "cell_type": "code",
   "execution_count": 122,
   "id": "4b24c691",
   "metadata": {},
   "outputs": [
    {
     "data": {
      "text/plain": [
       "91"
      ]
     },
     "execution_count": 122,
     "metadata": {},
     "output_type": "execute_result"
    }
   ],
   "source": [
    "range8=fa.max()-fa.min()\n",
    "range8"
   ]
  },
  {
   "cell_type": "code",
   "execution_count": 123,
   "id": "9765c325",
   "metadata": {},
   "outputs": [
    {
     "data": {
      "text/plain": [
       "67.0"
      ]
     },
     "execution_count": 123,
     "metadata": {},
     "output_type": "execute_result"
    }
   ],
   "source": [
    "q1=np.percentile(fa,25)\n",
    "q1"
   ]
  },
  {
   "cell_type": "code",
   "execution_count": 124,
   "id": "1a749fad",
   "metadata": {},
   "outputs": [
    {
     "data": {
      "text/plain": [
       "67.0"
      ]
     },
     "execution_count": 124,
     "metadata": {},
     "output_type": "execute_result"
    }
   ],
   "source": [
    "q2=np.percentile(fa,25)\n",
    "q2"
   ]
  },
  {
   "cell_type": "code",
   "execution_count": 125,
   "id": "30a88738",
   "metadata": {},
   "outputs": [
    {
     "data": {
      "text/plain": [
       "67.0"
      ]
     },
     "execution_count": 125,
     "metadata": {},
     "output_type": "execute_result"
    }
   ],
   "source": [
    "q3=np.percentile(fa,25)\n",
    "q3"
   ]
  },
  {
   "cell_type": "code",
   "execution_count": 126,
   "id": "7b37a089",
   "metadata": {},
   "outputs": [
    {
     "data": {
      "text/plain": [
       "0.0"
      ]
     },
     "execution_count": 126,
     "metadata": {},
     "output_type": "execute_result"
    }
   ],
   "source": [
    "iqr=q3-q1\n",
    "iqr"
   ]
  },
  {
   "cell_type": "code",
   "execution_count": 127,
   "id": "e81d27be",
   "metadata": {},
   "outputs": [],
   "source": [
    "upperlimit =q3+(1.5*q3)\n",
    "lowerlimit =q1-(1.5*q1)"
   ]
  },
  {
   "cell_type": "code",
   "execution_count": 128,
   "id": "e1575f47",
   "metadata": {},
   "outputs": [
    {
     "data": {
      "text/plain": [
       "167.5"
      ]
     },
     "execution_count": 128,
     "metadata": {},
     "output_type": "execute_result"
    }
   ],
   "source": [
    "upperlimit"
   ]
  },
  {
   "cell_type": "code",
   "execution_count": 129,
   "id": "8dd4b365",
   "metadata": {},
   "outputs": [
    {
     "data": {
      "text/plain": [
       "-33.5"
      ]
     },
     "execution_count": 129,
     "metadata": {},
     "output_type": "execute_result"
    }
   ],
   "source": [
    "lowerlimit"
   ]
  },
  {
   "cell_type": "markdown",
   "id": "97789dd2",
   "metadata": {},
   "source": [
    "## Which subject has highest average ?"
   ]
  },
  {
   "cell_type": "code",
   "execution_count": 130,
   "id": "099fc938",
   "metadata": {},
   "outputs": [
    {
     "data": {
      "text/plain": [
       "array([76.05714286, 71.96190476, 78.94285714, 85.13333333, 83.87619048,\n",
       "       80.76190476, 75.32380952])"
      ]
     },
     "execution_count": 130,
     "metadata": {},
     "output_type": "execute_result"
    }
   ],
   "source": [
    "overallavg=np.array([algavg,calavg,calavg2,statavg,probavg,meaavg,faavg])\n",
    "overallavg"
   ]
  },
  {
   "cell_type": "code",
   "execution_count": 131,
   "id": "99e66879",
   "metadata": {},
   "outputs": [
    {
     "data": {
      "text/plain": [
       "85.13333333333334"
      ]
     },
     "execution_count": 131,
     "metadata": {},
     "output_type": "execute_result"
    }
   ],
   "source": [
    "overallavg.max()"
   ]
  },
  {
   "cell_type": "markdown",
   "id": "6a70a134",
   "metadata": {},
   "source": [
    "## What are the Student IDs who got more tham 80% GPA?"
   ]
  },
  {
   "cell_type": "code",
   "execution_count": 132,
   "id": "82c1517b",
   "metadata": {},
   "outputs": [
    {
     "data": {
      "text/plain": [
       "11     1152\n",
       "13     1154\n",
       "14     1155\n",
       "15     1156\n",
       "17     1158\n",
       "       ... \n",
       "100    1241\n",
       "101    1242\n",
       "102    1243\n",
       "103    1244\n",
       "104    1245\n",
       "Name: ID, Length: 76, dtype: int64"
      ]
     },
     "execution_count": 132,
     "metadata": {},
     "output_type": "execute_result"
    }
   ],
   "source": [
    "df[(df['GPA']>80)]['ID']"
   ]
  },
  {
   "cell_type": "markdown",
   "id": "e8332e05",
   "metadata": {},
   "source": [
    "## How many female students are there in the class?"
   ]
  },
  {
   "cell_type": "code",
   "execution_count": 133,
   "id": "88c529b4",
   "metadata": {},
   "outputs": [
    {
     "name": "stderr",
     "output_type": "stream",
     "text": [
      "C:\\Users\\subha\\AppData\\Local\\Temp\\ipykernel_16536\\1956710376.py:1: FutureWarning: Series.__getitem__ treating keys as positions is deprecated. In a future version, integer keys will always be treated as labels (consistent with DataFrame behavior). To access a value by position, use `ser.iloc[pos]`\n",
      "  females=df['gender'].value_counts()[0]\n"
     ]
    },
    {
     "data": {
      "text/plain": [
       "68"
      ]
     },
     "execution_count": 133,
     "metadata": {},
     "output_type": "execute_result"
    }
   ],
   "source": [
    "females=df['gender'].value_counts()[0]\n",
    "females"
   ]
  },
  {
   "cell_type": "markdown",
   "id": "b20aeecb",
   "metadata": {},
   "source": [
    "## What is the ratio of male students and female students?"
   ]
  },
  {
   "cell_type": "code",
   "execution_count": 135,
   "id": "69f0acdc",
   "metadata": {},
   "outputs": [
    {
     "name": "stderr",
     "output_type": "stream",
     "text": [
      "C:\\Users\\subha\\AppData\\Local\\Temp\\ipykernel_16536\\1519503812.py:1: FutureWarning: Series.__getitem__ treating keys as positions is deprecated. In a future version, integer keys will always be treated as labels (consistent with DataFrame behavior). To access a value by position, use `ser.iloc[pos]`\n",
      "  males = df['gender'].value_counts()[1]\n"
     ]
    },
    {
     "data": {
      "text/plain": [
       "37"
      ]
     },
     "execution_count": 135,
     "metadata": {},
     "output_type": "execute_result"
    }
   ],
   "source": [
    "males = df['gender'].value_counts()[1]\n",
    "males"
   ]
  },
  {
   "cell_type": "code",
   "execution_count": 136,
   "id": "19174033",
   "metadata": {},
   "outputs": [
    {
     "name": "stdout",
     "output_type": "stream",
     "text": [
      "37:68\n"
     ]
    }
   ],
   "source": [
    "print(f\"{males}:{females}\")"
   ]
  },
  {
   "cell_type": "markdown",
   "id": "ea4bac90",
   "metadata": {},
   "source": [
    "## What are the marks of male students in statistics ?"
   ]
  },
  {
   "cell_type": "code",
   "execution_count": 156,
   "id": "79c94d13",
   "metadata": {},
   "outputs": [
    {
     "data": {
      "text/plain": [
       "Series([], Name: Statistics, dtype: int64)"
      ]
     },
     "execution_count": 156,
     "metadata": {},
     "output_type": "execute_result"
    }
   ],
   "source": [
    "df[(df['gender']=='males')]['Statistics']"
   ]
  },
  {
   "cell_type": "markdown",
   "id": "1c0e094f",
   "metadata": {},
   "source": [
    "## What is the ID of the class topper ?"
   ]
  },
  {
   "cell_type": "code",
   "execution_count": 157,
   "id": "e5c6c025",
   "metadata": {},
   "outputs": [
    {
     "data": {
      "text/plain": [
       "93.71"
      ]
     },
     "execution_count": 157,
     "metadata": {},
     "output_type": "execute_result"
    }
   ],
   "source": [
    "highgpa=gpa.max()\n",
    "highgpa"
   ]
  },
  {
   "cell_type": "code",
   "execution_count": 159,
   "id": "c4301924",
   "metadata": {},
   "outputs": [
    {
     "data": {
      "text/plain": [
       "104"
      ]
     },
     "execution_count": 159,
     "metadata": {},
     "output_type": "execute_result"
    }
   ],
   "source": [
    "maxgpa=df['GPA'].idxmax()\n",
    "maxgpa"
   ]
  },
  {
   "cell_type": "code",
   "execution_count": 160,
   "id": "86240221",
   "metadata": {},
   "outputs": [
    {
     "data": {
      "text/plain": [
       "1245"
      ]
     },
     "execution_count": 160,
     "metadata": {},
     "output_type": "execute_result"
    }
   ],
   "source": [
    "topper=df.loc[maxgpa,'ID']\n",
    "topper"
   ]
  },
  {
   "cell_type": "markdown",
   "id": "43a84f6c",
   "metadata": {},
   "source": [
    "## What is the gender of probabilty topper?"
   ]
  },
  {
   "cell_type": "code",
   "execution_count": 161,
   "id": "8dc3cdbd",
   "metadata": {},
   "outputs": [
    {
     "data": {
      "text/plain": [
       "97"
      ]
     },
     "execution_count": 161,
     "metadata": {},
     "output_type": "execute_result"
    }
   ],
   "source": [
    "highprob=probability.max()\n",
    "highprob"
   ]
  },
  {
   "cell_type": "code",
   "execution_count": 162,
   "id": "9f4a513f",
   "metadata": {},
   "outputs": [
    {
     "data": {
      "text/plain": [
       "'male'"
      ]
     },
     "execution_count": 162,
     "metadata": {},
     "output_type": "execute_result"
    }
   ],
   "source": [
    "gender=df.loc[highprob,'gender']\n",
    "gender"
   ]
  },
  {
   "cell_type": "markdown",
   "id": "5b59b9bb",
   "metadata": {},
   "source": [
    "## Create Pivot Table for gender and class?"
   ]
  },
  {
   "cell_type": "code",
   "execution_count": 163,
   "id": "86117096",
   "metadata": {},
   "outputs": [
    {
     "data": {
      "text/html": [
       "<div>\n",
       "<style scoped>\n",
       "    .dataframe tbody tr th:only-of-type {\n",
       "        vertical-align: middle;\n",
       "    }\n",
       "\n",
       "    .dataframe tbody tr th {\n",
       "        vertical-align: top;\n",
       "    }\n",
       "\n",
       "    .dataframe thead th {\n",
       "        text-align: right;\n",
       "    }\n",
       "</style>\n",
       "<table border=\"1\" class=\"dataframe\">\n",
       "  <thead>\n",
       "    <tr style=\"text-align: right;\">\n",
       "      <th>class</th>\n",
       "      <th>A</th>\n",
       "      <th>B</th>\n",
       "    </tr>\n",
       "    <tr>\n",
       "      <th>gender</th>\n",
       "      <th></th>\n",
       "      <th></th>\n",
       "    </tr>\n",
       "  </thead>\n",
       "  <tbody>\n",
       "    <tr>\n",
       "      <th>female</th>\n",
       "      <td>48</td>\n",
       "      <td>20</td>\n",
       "    </tr>\n",
       "    <tr>\n",
       "      <th>male</th>\n",
       "      <td>28</td>\n",
       "      <td>9</td>\n",
       "    </tr>\n",
       "  </tbody>\n",
       "</table>\n",
       "</div>"
      ],
      "text/plain": [
       "class    A   B\n",
       "gender        \n",
       "female  48  20\n",
       "male    28   9"
      ]
     },
     "execution_count": 163,
     "metadata": {},
     "output_type": "execute_result"
    }
   ],
   "source": [
    "pd.crosstab(df['gender'],df['class'])"
   ]
  },
  {
   "cell_type": "markdown",
   "id": "24d29488",
   "metadata": {},
   "source": [
    "## Which subject got least average marks?"
   ]
  },
  {
   "cell_type": "code",
   "execution_count": 164,
   "id": "0bebb94e",
   "metadata": {},
   "outputs": [
    {
     "data": {
      "text/plain": [
       "71.96190476190476"
      ]
     },
     "execution_count": 164,
     "metadata": {},
     "output_type": "execute_result"
    }
   ],
   "source": [
    "overallavg.min()"
   ]
  },
  {
   "cell_type": "markdown",
   "id": "f3d68031",
   "metadata": {},
   "source": [
    "## How many male and female students are there ?"
   ]
  },
  {
   "cell_type": "code",
   "execution_count": 165,
   "id": "13ca1dcd",
   "metadata": {},
   "outputs": [
    {
     "data": {
      "text/plain": [
       "gender\n",
       "female    68\n",
       "male      37\n",
       "Name: count, dtype: int64"
      ]
     },
     "execution_count": 165,
     "metadata": {},
     "output_type": "execute_result"
    }
   ],
   "source": [
    "df['gender'].value_counts()"
   ]
  },
  {
   "cell_type": "markdown",
   "id": "572ec807",
   "metadata": {},
   "source": [
    "## How many female student are there from class A?"
   ]
  },
  {
   "cell_type": "code",
   "execution_count": 166,
   "id": "3eff192b",
   "metadata": {},
   "outputs": [
    {
     "data": {
      "text/plain": [
       "48"
      ]
     },
     "execution_count": 166,
     "metadata": {},
     "output_type": "execute_result"
    }
   ],
   "source": [
    "fema=df[(df['gender']=='female') & (df['class']=='A')]['gender']\n",
    "fema.count()"
   ]
  },
  {
   "cell_type": "markdown",
   "id": "efc89ac7",
   "metadata": {},
   "source": [
    "## Which class has more strength ?"
   ]
  },
  {
   "cell_type": "code",
   "execution_count": 167,
   "id": "6a6febca",
   "metadata": {},
   "outputs": [
    {
     "data": {
      "text/plain": [
       "0      A\n",
       "1      A\n",
       "2      A\n",
       "3      A\n",
       "4      A\n",
       "      ..\n",
       "100    A\n",
       "101    B\n",
       "102    B\n",
       "103    A\n",
       "104    A\n",
       "Name: class, Length: 105, dtype: object"
      ]
     },
     "execution_count": 167,
     "metadata": {},
     "output_type": "execute_result"
    }
   ],
   "source": [
    "class1=df['class']\n",
    "class1"
   ]
  },
  {
   "cell_type": "code",
   "execution_count": 168,
   "id": "f6a4bae3",
   "metadata": {},
   "outputs": [
    {
     "data": {
      "text/plain": [
       "class\n",
       "A    76\n",
       "B    29\n",
       "Name: count, dtype: int64"
      ]
     },
     "execution_count": 168,
     "metadata": {},
     "output_type": "execute_result"
    }
   ],
   "source": [
    "class1.value_counts()"
   ]
  },
  {
   "cell_type": "markdown",
   "id": "40bc5f1a",
   "metadata": {},
   "source": [
    "## Sort the data as per algebra ?"
   ]
  },
  {
   "cell_type": "code",
   "execution_count": 169,
   "id": "0c21df20",
   "metadata": {},
   "outputs": [
    {
     "data": {
      "text/html": [
       "<div>\n",
       "<style scoped>\n",
       "    .dataframe tbody tr th:only-of-type {\n",
       "        vertical-align: middle;\n",
       "    }\n",
       "\n",
       "    .dataframe tbody tr th {\n",
       "        vertical-align: top;\n",
       "    }\n",
       "\n",
       "    .dataframe thead th {\n",
       "        text-align: right;\n",
       "    }\n",
       "</style>\n",
       "<table border=\"1\" class=\"dataframe\">\n",
       "  <thead>\n",
       "    <tr style=\"text-align: right;\">\n",
       "      <th></th>\n",
       "      <th>ID</th>\n",
       "      <th>class</th>\n",
       "      <th>gender</th>\n",
       "      <th>GPA</th>\n",
       "      <th>Algebra</th>\n",
       "      <th>Calculus1</th>\n",
       "      <th>Calculus2</th>\n",
       "      <th>Statistics</th>\n",
       "      <th>Probability</th>\n",
       "      <th>Measure</th>\n",
       "      <th>Functional_analysis</th>\n",
       "    </tr>\n",
       "  </thead>\n",
       "  <tbody>\n",
       "    <tr>\n",
       "      <th>101</th>\n",
       "      <td>1242</td>\n",
       "      <td>B</td>\n",
       "      <td>male</td>\n",
       "      <td>89.84</td>\n",
       "      <td>98</td>\n",
       "      <td>77</td>\n",
       "      <td>95</td>\n",
       "      <td>98</td>\n",
       "      <td>96</td>\n",
       "      <td>88</td>\n",
       "      <td>100</td>\n",
       "    </tr>\n",
       "    <tr>\n",
       "      <th>97</th>\n",
       "      <td>1238</td>\n",
       "      <td>A</td>\n",
       "      <td>male</td>\n",
       "      <td>91.14</td>\n",
       "      <td>98</td>\n",
       "      <td>90</td>\n",
       "      <td>98</td>\n",
       "      <td>97</td>\n",
       "      <td>83</td>\n",
       "      <td>93</td>\n",
       "      <td>89</td>\n",
       "    </tr>\n",
       "    <tr>\n",
       "      <th>65</th>\n",
       "      <td>1206</td>\n",
       "      <td>A</td>\n",
       "      <td>male</td>\n",
       "      <td>86.37</td>\n",
       "      <td>95</td>\n",
       "      <td>76</td>\n",
       "      <td>87</td>\n",
       "      <td>90</td>\n",
       "      <td>86</td>\n",
       "      <td>94</td>\n",
       "      <td>84</td>\n",
       "    </tr>\n",
       "    <tr>\n",
       "      <th>75</th>\n",
       "      <td>1216</td>\n",
       "      <td>A</td>\n",
       "      <td>female</td>\n",
       "      <td>91.90</td>\n",
       "      <td>95</td>\n",
       "      <td>86</td>\n",
       "      <td>96</td>\n",
       "      <td>92</td>\n",
       "      <td>95</td>\n",
       "      <td>90</td>\n",
       "      <td>95</td>\n",
       "    </tr>\n",
       "    <tr>\n",
       "      <th>87</th>\n",
       "      <td>1228</td>\n",
       "      <td>A</td>\n",
       "      <td>female</td>\n",
       "      <td>88.62</td>\n",
       "      <td>95</td>\n",
       "      <td>65</td>\n",
       "      <td>97</td>\n",
       "      <td>94</td>\n",
       "      <td>97</td>\n",
       "      <td>85</td>\n",
       "      <td>85</td>\n",
       "    </tr>\n",
       "    <tr>\n",
       "      <th>...</th>\n",
       "      <td>...</td>\n",
       "      <td>...</td>\n",
       "      <td>...</td>\n",
       "      <td>...</td>\n",
       "      <td>...</td>\n",
       "      <td>...</td>\n",
       "      <td>...</td>\n",
       "      <td>...</td>\n",
       "      <td>...</td>\n",
       "      <td>...</td>\n",
       "      <td>...</td>\n",
       "    </tr>\n",
       "    <tr>\n",
       "      <th>5</th>\n",
       "      <td>1146</td>\n",
       "      <td>A</td>\n",
       "      <td>male</td>\n",
       "      <td>65.04</td>\n",
       "      <td>60</td>\n",
       "      <td>60</td>\n",
       "      <td>39</td>\n",
       "      <td>61</td>\n",
       "      <td>65</td>\n",
       "      <td>74</td>\n",
       "      <td>60</td>\n",
       "    </tr>\n",
       "    <tr>\n",
       "      <th>1</th>\n",
       "      <td>1142</td>\n",
       "      <td>A</td>\n",
       "      <td>female</td>\n",
       "      <td>71.22</td>\n",
       "      <td>57</td>\n",
       "      <td>50</td>\n",
       "      <td>51</td>\n",
       "      <td>51</td>\n",
       "      <td>55</td>\n",
       "      <td>62</td>\n",
       "      <td>61</td>\n",
       "    </tr>\n",
       "    <tr>\n",
       "      <th>4</th>\n",
       "      <td>1145</td>\n",
       "      <td>A</td>\n",
       "      <td>female</td>\n",
       "      <td>70.11</td>\n",
       "      <td>49</td>\n",
       "      <td>45</td>\n",
       "      <td>63</td>\n",
       "      <td>60</td>\n",
       "      <td>66</td>\n",
       "      <td>66</td>\n",
       "      <td>61</td>\n",
       "    </tr>\n",
       "    <tr>\n",
       "      <th>2</th>\n",
       "      <td>1143</td>\n",
       "      <td>A</td>\n",
       "      <td>female</td>\n",
       "      <td>74.56</td>\n",
       "      <td>47</td>\n",
       "      <td>48</td>\n",
       "      <td>71</td>\n",
       "      <td>60</td>\n",
       "      <td>61</td>\n",
       "      <td>68</td>\n",
       "      <td>64</td>\n",
       "    </tr>\n",
       "    <tr>\n",
       "      <th>3</th>\n",
       "      <td>1144</td>\n",
       "      <td>A</td>\n",
       "      <td>female</td>\n",
       "      <td>72.89</td>\n",
       "      <td>46</td>\n",
       "      <td>72</td>\n",
       "      <td>38</td>\n",
       "      <td>60</td>\n",
       "      <td>29</td>\n",
       "      <td>54</td>\n",
       "      <td>51</td>\n",
       "    </tr>\n",
       "  </tbody>\n",
       "</table>\n",
       "<p>105 rows × 11 columns</p>\n",
       "</div>"
      ],
      "text/plain": [
       "       ID class  gender    GPA  Algebra  Calculus1  Calculus2  Statistics  \\\n",
       "101  1242     B    male  89.84       98         77         95          98   \n",
       "97   1238     A    male  91.14       98         90         98          97   \n",
       "65   1206     A    male  86.37       95         76         87          90   \n",
       "75   1216     A  female  91.90       95         86         96          92   \n",
       "87   1228     A  female  88.62       95         65         97          94   \n",
       "..    ...   ...     ...    ...      ...        ...        ...         ...   \n",
       "5    1146     A    male  65.04       60         60         39          61   \n",
       "1    1142     A  female  71.22       57         50         51          51   \n",
       "4    1145     A  female  70.11       49         45         63          60   \n",
       "2    1143     A  female  74.56       47         48         71          60   \n",
       "3    1144     A  female  72.89       46         72         38          60   \n",
       "\n",
       "     Probability  Measure  Functional_analysis  \n",
       "101           96       88                  100  \n",
       "97            83       93                   89  \n",
       "65            86       94                   84  \n",
       "75            95       90                   95  \n",
       "87            97       85                   85  \n",
       "..           ...      ...                  ...  \n",
       "5             65       74                   60  \n",
       "1             55       62                   61  \n",
       "4             66       66                   61  \n",
       "2             61       68                   64  \n",
       "3             29       54                   51  \n",
       "\n",
       "[105 rows x 11 columns]"
      ]
     },
     "execution_count": 169,
     "metadata": {},
     "output_type": "execute_result"
    }
   ],
   "source": [
    "df.sort_values('Algebra',ascending=False)"
   ]
  },
  {
   "cell_type": "markdown",
   "id": "39995ca2",
   "metadata": {},
   "source": [
    "## How many students got exactly 64 marks from functional analysis?"
   ]
  },
  {
   "cell_type": "code",
   "execution_count": 171,
   "id": "f69448cf",
   "metadata": {},
   "outputs": [
    {
     "data": {
      "text/plain": [
       "0      False\n",
       "1      False\n",
       "2       True\n",
       "3      False\n",
       "4      False\n",
       "       ...  \n",
       "100    False\n",
       "101    False\n",
       "102    False\n",
       "103    False\n",
       "104    False\n",
       "Name: Functional_analysis, Length: 105, dtype: bool"
      ]
     },
     "execution_count": 171,
     "metadata": {},
     "output_type": "execute_result"
    }
   ],
   "source": [
    "fa64=df['Functional_analysis']==64 \n",
    "fa64"
   ]
  },
  {
   "cell_type": "code",
   "execution_count": 173,
   "id": "b7a5dc05",
   "metadata": {},
   "outputs": [
    {
     "data": {
      "text/plain": [
       "2     64\n",
       "14    64\n",
       "18    64\n",
       "19    64\n",
       "26    64\n",
       "34    64\n",
       "46    64\n",
       "48    64\n",
       "Name: Functional_analysis, dtype: int64"
      ]
     },
     "execution_count": 173,
     "metadata": {},
     "output_type": "execute_result"
    }
   ],
   "source": [
    "total=df.loc[fa64,'Functional_analysis']\n",
    "total"
   ]
  },
  {
   "cell_type": "code",
   "execution_count": 174,
   "id": "ac1913b7",
   "metadata": {},
   "outputs": [
    {
     "data": {
      "text/plain": [
       "8"
      ]
     },
     "execution_count": 174,
     "metadata": {},
     "output_type": "execute_result"
    }
   ],
   "source": [
    "total.count()"
   ]
  },
  {
   "cell_type": "code",
   "execution_count": null,
   "id": "e2a007a5",
   "metadata": {},
   "outputs": [],
   "source": []
  }
 ],
 "metadata": {
  "kernelspec": {
   "display_name": "Python 3 (ipykernel)",
   "language": "python",
   "name": "python3"
  },
  "language_info": {
   "codemirror_mode": {
    "name": "ipython",
    "version": 3
   },
   "file_extension": ".py",
   "mimetype": "text/x-python",
   "name": "python",
   "nbconvert_exporter": "python",
   "pygments_lexer": "ipython3",
   "version": "3.11.4"
  }
 },
 "nbformat": 4,
 "nbformat_minor": 5
}
